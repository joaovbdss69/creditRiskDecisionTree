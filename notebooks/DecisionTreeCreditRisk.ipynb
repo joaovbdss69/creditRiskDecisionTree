{
 "cells": [
  {
   "cell_type": "code",
   "execution_count": 2,
   "id": "cfc977e3-552f-4c0e-90f4-f31e201920bb",
   "metadata": {},
   "outputs": [],
   "source": [
    "import inspect \n",
    "import os, sys #paths para os scripts\n",
    "sys.path.append(os.path.join(os.path.dirname(sys.path[0]),'src'))\n",
    "sys.path.append(os.path.join(os.path.dirname(sys.path[0]),'src','data'))\n",
    "sys.path.append(os.path.join(os.path.dirname(sys.path[0]),'src','features'))\n",
    "sys.path.append(os.path.join(os.path.dirname(sys.path[0]),'src','models'))\n",
    "sys.path.append(os.path.join(os.path.dirname(sys.path[0]),'src','visualization'))\n"
   ]
  },
  {
   "cell_type": "code",
   "execution_count": 6,
   "id": "b95d9721-dde3-4eeb-8b2f-8a640bdd707f",
   "metadata": {},
   "outputs": [],
   "source": [
    "import context  as c #shotscuts para os paths"
   ]
  },
  {
   "cell_type": "code",
   "execution_count": 3,
   "id": "79bf5879-8e13-4f1a-90ed-78b61bfc5d5b",
   "metadata": {},
   "outputs": [],
   "source": [
    "import pandas as pd\n",
    "import numpy as np\n",
    "import warnings\n",
    "\n",
    "from sklearn.tree import DecisionTreeClassifier\n",
    "from sklearn.model_selection import train_test_split\n",
    "from sklearn.metrics import roc_curve, auc\n",
    "from sklearn import metrics"
   ]
  },
  {
   "cell_type": "code",
   "execution_count": 11,
   "id": "6b967eb5-8554-4a9a-a87b-dc66b0bca76a",
   "metadata": {},
   "outputs": [],
   "source": [
    "dataset = pd.read_csv(c.DATA_EXTERNAL_FLD/\"credito.csv\")"
   ]
  }
 ],
 "metadata": {
  "kernelspec": {
   "display_name": "Python 3 (ipykernel)",
   "language": "python",
   "name": "python3"
  },
  "language_info": {
   "codemirror_mode": {
    "name": "ipython",
    "version": 3
   },
   "file_extension": ".py",
   "mimetype": "text/x-python",
   "name": "python",
   "nbconvert_exporter": "python",
   "pygments_lexer": "ipython3",
   "version": "3.9.12"
  }
 },
 "nbformat": 4,
 "nbformat_minor": 5
}
