{
 "cells": [
  {
   "cell_type": "markdown",
   "id": "e40ec08e-adbf-4d42-b053-912d63ffaf1a",
   "metadata": {
    "tags": []
   },
   "source": [
    "# Estudo de Caso 2\n",
    "\n",
    "**Esse Estudo de caso tem como principal intuito a criação de um modelo de Árvore de Decisão para decisão de risco de crédito**"
   ]
  },
  {
   "cell_type": "markdown",
   "id": "5140e92a-38bc-4cd9-ada0-7206b3d6a7bf",
   "metadata": {
    "jp-MarkdownHeadingCollapsed": true,
    "tags": []
   },
   "source": [
    "## Imports"
   ]
  },
  {
   "cell_type": "code",
   "execution_count": 1,
   "id": "cfc977e3-552f-4c0e-90f4-f31e201920bb",
   "metadata": {},
   "outputs": [],
   "source": [
    "import inspect\n",
    "import os  # paths para os scripts\n",
    "import sys\n",
    "\n",
    "sys.path.append(os.path.join(os.path.dirname(sys.path[0]), \"src\"))\n",
    "sys.path.append(os.path.join(os.path.dirname(sys.path[0]), \"src\", \"data\"))\n",
    "sys.path.append(os.path.join(os.path.dirname(sys.path[0]), \"src\", \"features\"))\n",
    "sys.path.append(os.path.join(os.path.dirname(sys.path[0]), \"src\", \"models\"))\n",
    "sys.path.append(os.path.join(os.path.dirname(sys.path[0]), \"src\", \"visualization\"))"
   ]
  },
  {
   "cell_type": "code",
   "execution_count": 2,
   "id": "b95d9721-dde3-4eeb-8b2f-8a640bdd707f",
   "metadata": {},
   "outputs": [],
   "source": [
    "import context as c  # shotscuts para os paths"
   ]
  },
  {
   "cell_type": "code",
   "execution_count": 3,
   "id": "79bf5879-8e13-4f1a-90ed-78b61bfc5d5b",
   "metadata": {},
   "outputs": [],
   "source": [
    "import warnings\n",
    "\n",
    "import matplotlib.pyplot as plt\n",
    "import numpy as np\n",
    "import pandas as pd\n",
    "import seaborn as sns\n",
    "import shap\n",
    "from sklearn import metrics, preprocessing\n",
    "from sklearn.metrics import auc, confusion_matrix, roc_curve\n",
    "from sklearn.model_selection import cross_val_score, train_test_split\n",
    "from sklearn.tree import DecisionTreeClassifier, export_text"
   ]
  },
  {
   "cell_type": "code",
   "execution_count": 4,
   "id": "6b967eb5-8554-4a9a-a87b-dc66b0bca76a",
   "metadata": {},
   "outputs": [],
   "source": [
    "dataset = pd.read_csv(c.DATA_EXTERNAL_FLD / \"credito.csv\")"
   ]
  },
  {
   "cell_type": "markdown",
   "id": "88573fd1-5955-413d-a8af-4d5564552451",
   "metadata": {
    "jp-MarkdownHeadingCollapsed": true,
    "tags": []
   },
   "source": [
    "## Exploração de Dados"
   ]
  },
  {
   "cell_type": "code",
   "execution_count": 5,
   "id": "a88bbf65-48b1-4ebf-999c-33d4f1cd64a7",
   "metadata": {},
   "outputs": [
    {
     "data": {
      "text/html": [
       "<div>\n",
       "<style scoped>\n",
       "    .dataframe tbody tr th:only-of-type {\n",
       "        vertical-align: middle;\n",
       "    }\n",
       "\n",
       "    .dataframe tbody tr th {\n",
       "        vertical-align: top;\n",
       "    }\n",
       "\n",
       "    .dataframe thead th {\n",
       "        text-align: right;\n",
       "    }\n",
       "</style>\n",
       "<table border=\"1\" class=\"dataframe\">\n",
       "  <thead>\n",
       "    <tr style=\"text-align: right;\">\n",
       "      <th></th>\n",
       "      <th>months_loan_duration</th>\n",
       "      <th>amount</th>\n",
       "      <th>percent_of_income</th>\n",
       "      <th>years_at_residence</th>\n",
       "      <th>age</th>\n",
       "      <th>existing_loans_count</th>\n",
       "      <th>dependents</th>\n",
       "    </tr>\n",
       "  </thead>\n",
       "  <tbody>\n",
       "    <tr>\n",
       "      <th>count</th>\n",
       "      <td>1000.000000</td>\n",
       "      <td>1000.000000</td>\n",
       "      <td>1000.000000</td>\n",
       "      <td>1000.000000</td>\n",
       "      <td>1000.000000</td>\n",
       "      <td>1000.000000</td>\n",
       "      <td>1000.000000</td>\n",
       "    </tr>\n",
       "    <tr>\n",
       "      <th>mean</th>\n",
       "      <td>20.903000</td>\n",
       "      <td>3271.258000</td>\n",
       "      <td>2.973000</td>\n",
       "      <td>2.845000</td>\n",
       "      <td>35.546000</td>\n",
       "      <td>1.407000</td>\n",
       "      <td>1.155000</td>\n",
       "    </tr>\n",
       "    <tr>\n",
       "      <th>std</th>\n",
       "      <td>12.058814</td>\n",
       "      <td>2822.736876</td>\n",
       "      <td>1.118715</td>\n",
       "      <td>1.103718</td>\n",
       "      <td>11.375469</td>\n",
       "      <td>0.577654</td>\n",
       "      <td>0.362086</td>\n",
       "    </tr>\n",
       "    <tr>\n",
       "      <th>min</th>\n",
       "      <td>4.000000</td>\n",
       "      <td>250.000000</td>\n",
       "      <td>1.000000</td>\n",
       "      <td>1.000000</td>\n",
       "      <td>19.000000</td>\n",
       "      <td>1.000000</td>\n",
       "      <td>1.000000</td>\n",
       "    </tr>\n",
       "    <tr>\n",
       "      <th>25%</th>\n",
       "      <td>12.000000</td>\n",
       "      <td>1365.500000</td>\n",
       "      <td>2.000000</td>\n",
       "      <td>2.000000</td>\n",
       "      <td>27.000000</td>\n",
       "      <td>1.000000</td>\n",
       "      <td>1.000000</td>\n",
       "    </tr>\n",
       "    <tr>\n",
       "      <th>50%</th>\n",
       "      <td>18.000000</td>\n",
       "      <td>2319.500000</td>\n",
       "      <td>3.000000</td>\n",
       "      <td>3.000000</td>\n",
       "      <td>33.000000</td>\n",
       "      <td>1.000000</td>\n",
       "      <td>1.000000</td>\n",
       "    </tr>\n",
       "    <tr>\n",
       "      <th>75%</th>\n",
       "      <td>24.000000</td>\n",
       "      <td>3972.250000</td>\n",
       "      <td>4.000000</td>\n",
       "      <td>4.000000</td>\n",
       "      <td>42.000000</td>\n",
       "      <td>2.000000</td>\n",
       "      <td>1.000000</td>\n",
       "    </tr>\n",
       "    <tr>\n",
       "      <th>max</th>\n",
       "      <td>72.000000</td>\n",
       "      <td>18424.000000</td>\n",
       "      <td>4.000000</td>\n",
       "      <td>4.000000</td>\n",
       "      <td>75.000000</td>\n",
       "      <td>4.000000</td>\n",
       "      <td>2.000000</td>\n",
       "    </tr>\n",
       "  </tbody>\n",
       "</table>\n",
       "</div>"
      ],
      "text/plain": [
       "       months_loan_duration        amount  percent_of_income  \\\n",
       "count           1000.000000   1000.000000        1000.000000   \n",
       "mean              20.903000   3271.258000           2.973000   \n",
       "std               12.058814   2822.736876           1.118715   \n",
       "min                4.000000    250.000000           1.000000   \n",
       "25%               12.000000   1365.500000           2.000000   \n",
       "50%               18.000000   2319.500000           3.000000   \n",
       "75%               24.000000   3972.250000           4.000000   \n",
       "max               72.000000  18424.000000           4.000000   \n",
       "\n",
       "       years_at_residence          age  existing_loans_count   dependents  \n",
       "count         1000.000000  1000.000000           1000.000000  1000.000000  \n",
       "mean             2.845000    35.546000              1.407000     1.155000  \n",
       "std              1.103718    11.375469              0.577654     0.362086  \n",
       "min              1.000000    19.000000              1.000000     1.000000  \n",
       "25%              2.000000    27.000000              1.000000     1.000000  \n",
       "50%              3.000000    33.000000              1.000000     1.000000  \n",
       "75%              4.000000    42.000000              2.000000     1.000000  \n",
       "max              4.000000    75.000000              4.000000     2.000000  "
      ]
     },
     "execution_count": 5,
     "metadata": {},
     "output_type": "execute_result"
    }
   ],
   "source": [
    "dataset.describe()"
   ]
  },
  {
   "cell_type": "code",
   "execution_count": 6,
   "id": "37fe50dc-d762-4729-a5c5-71d87a7f8de1",
   "metadata": {},
   "outputs": [
    {
     "name": "stdout",
     "output_type": "stream",
     "text": [
      "<class 'pandas.core.frame.DataFrame'>\n",
      "RangeIndex: 1000 entries, 0 to 999\n",
      "Data columns (total 17 columns):\n",
      " #   Column                Non-Null Count  Dtype \n",
      "---  ------                --------------  ----- \n",
      " 0   checking_balance      1000 non-null   object\n",
      " 1   months_loan_duration  1000 non-null   int64 \n",
      " 2   credit_history        1000 non-null   object\n",
      " 3   purpose               1000 non-null   object\n",
      " 4   amount                1000 non-null   int64 \n",
      " 5   savings_balance       1000 non-null   object\n",
      " 6   employment_duration   1000 non-null   object\n",
      " 7   percent_of_income     1000 non-null   int64 \n",
      " 8   years_at_residence    1000 non-null   int64 \n",
      " 9   age                   1000 non-null   int64 \n",
      " 10  other_credit          1000 non-null   object\n",
      " 11  housing               1000 non-null   object\n",
      " 12  existing_loans_count  1000 non-null   int64 \n",
      " 13  job                   1000 non-null   object\n",
      " 14  dependents            1000 non-null   int64 \n",
      " 15  phone                 1000 non-null   object\n",
      " 16  default               1000 non-null   object\n",
      "dtypes: int64(7), object(10)\n",
      "memory usage: 132.9+ KB\n"
     ]
    }
   ],
   "source": [
    "dataset.info()"
   ]
  },
  {
   "cell_type": "code",
   "execution_count": 7,
   "id": "b9eba915-635a-4fab-a9ae-49cf5d901369",
   "metadata": {},
   "outputs": [
    {
     "data": {
      "text/html": [
       "<div>\n",
       "<style scoped>\n",
       "    .dataframe tbody tr th:only-of-type {\n",
       "        vertical-align: middle;\n",
       "    }\n",
       "\n",
       "    .dataframe tbody tr th {\n",
       "        vertical-align: top;\n",
       "    }\n",
       "\n",
       "    .dataframe thead th {\n",
       "        text-align: right;\n",
       "    }\n",
       "</style>\n",
       "<table border=\"1\" class=\"dataframe\">\n",
       "  <thead>\n",
       "    <tr style=\"text-align: right;\">\n",
       "      <th></th>\n",
       "      <th>checking_balance</th>\n",
       "      <th>months_loan_duration</th>\n",
       "      <th>credit_history</th>\n",
       "      <th>purpose</th>\n",
       "      <th>amount</th>\n",
       "      <th>savings_balance</th>\n",
       "      <th>employment_duration</th>\n",
       "      <th>percent_of_income</th>\n",
       "      <th>years_at_residence</th>\n",
       "      <th>age</th>\n",
       "      <th>other_credit</th>\n",
       "      <th>housing</th>\n",
       "      <th>existing_loans_count</th>\n",
       "      <th>job</th>\n",
       "      <th>dependents</th>\n",
       "      <th>phone</th>\n",
       "      <th>default</th>\n",
       "    </tr>\n",
       "  </thead>\n",
       "  <tbody>\n",
       "    <tr>\n",
       "      <th>0</th>\n",
       "      <td>&lt; 0 DM</td>\n",
       "      <td>6</td>\n",
       "      <td>critical</td>\n",
       "      <td>furniture/appliances</td>\n",
       "      <td>1169</td>\n",
       "      <td>unknown</td>\n",
       "      <td>&gt; 7 years</td>\n",
       "      <td>4</td>\n",
       "      <td>4</td>\n",
       "      <td>67</td>\n",
       "      <td>none</td>\n",
       "      <td>own</td>\n",
       "      <td>2</td>\n",
       "      <td>skilled</td>\n",
       "      <td>1</td>\n",
       "      <td>yes</td>\n",
       "      <td>no</td>\n",
       "    </tr>\n",
       "    <tr>\n",
       "      <th>1</th>\n",
       "      <td>1 - 200 DM</td>\n",
       "      <td>48</td>\n",
       "      <td>good</td>\n",
       "      <td>furniture/appliances</td>\n",
       "      <td>5951</td>\n",
       "      <td>&lt; 100 DM</td>\n",
       "      <td>1 - 4 years</td>\n",
       "      <td>2</td>\n",
       "      <td>2</td>\n",
       "      <td>22</td>\n",
       "      <td>none</td>\n",
       "      <td>own</td>\n",
       "      <td>1</td>\n",
       "      <td>skilled</td>\n",
       "      <td>1</td>\n",
       "      <td>no</td>\n",
       "      <td>yes</td>\n",
       "    </tr>\n",
       "    <tr>\n",
       "      <th>2</th>\n",
       "      <td>unknown</td>\n",
       "      <td>12</td>\n",
       "      <td>critical</td>\n",
       "      <td>education</td>\n",
       "      <td>2096</td>\n",
       "      <td>&lt; 100 DM</td>\n",
       "      <td>4 - 7 years</td>\n",
       "      <td>2</td>\n",
       "      <td>3</td>\n",
       "      <td>49</td>\n",
       "      <td>none</td>\n",
       "      <td>own</td>\n",
       "      <td>1</td>\n",
       "      <td>unskilled</td>\n",
       "      <td>2</td>\n",
       "      <td>no</td>\n",
       "      <td>no</td>\n",
       "    </tr>\n",
       "    <tr>\n",
       "      <th>3</th>\n",
       "      <td>&lt; 0 DM</td>\n",
       "      <td>42</td>\n",
       "      <td>good</td>\n",
       "      <td>furniture/appliances</td>\n",
       "      <td>7882</td>\n",
       "      <td>&lt; 100 DM</td>\n",
       "      <td>4 - 7 years</td>\n",
       "      <td>2</td>\n",
       "      <td>4</td>\n",
       "      <td>45</td>\n",
       "      <td>none</td>\n",
       "      <td>other</td>\n",
       "      <td>1</td>\n",
       "      <td>skilled</td>\n",
       "      <td>2</td>\n",
       "      <td>no</td>\n",
       "      <td>no</td>\n",
       "    </tr>\n",
       "    <tr>\n",
       "      <th>4</th>\n",
       "      <td>&lt; 0 DM</td>\n",
       "      <td>24</td>\n",
       "      <td>poor</td>\n",
       "      <td>car</td>\n",
       "      <td>4870</td>\n",
       "      <td>&lt; 100 DM</td>\n",
       "      <td>1 - 4 years</td>\n",
       "      <td>3</td>\n",
       "      <td>4</td>\n",
       "      <td>53</td>\n",
       "      <td>none</td>\n",
       "      <td>other</td>\n",
       "      <td>2</td>\n",
       "      <td>skilled</td>\n",
       "      <td>2</td>\n",
       "      <td>no</td>\n",
       "      <td>yes</td>\n",
       "    </tr>\n",
       "  </tbody>\n",
       "</table>\n",
       "</div>"
      ],
      "text/plain": [
       "  checking_balance  months_loan_duration credit_history               purpose  \\\n",
       "0           < 0 DM                     6       critical  furniture/appliances   \n",
       "1       1 - 200 DM                    48           good  furniture/appliances   \n",
       "2          unknown                    12       critical             education   \n",
       "3           < 0 DM                    42           good  furniture/appliances   \n",
       "4           < 0 DM                    24           poor                   car   \n",
       "\n",
       "   amount savings_balance employment_duration  percent_of_income  \\\n",
       "0    1169         unknown           > 7 years                  4   \n",
       "1    5951        < 100 DM         1 - 4 years                  2   \n",
       "2    2096        < 100 DM         4 - 7 years                  2   \n",
       "3    7882        < 100 DM         4 - 7 years                  2   \n",
       "4    4870        < 100 DM         1 - 4 years                  3   \n",
       "\n",
       "   years_at_residence  age other_credit housing  existing_loans_count  \\\n",
       "0                   4   67         none     own                     2   \n",
       "1                   2   22         none     own                     1   \n",
       "2                   3   49         none     own                     1   \n",
       "3                   4   45         none   other                     1   \n",
       "4                   4   53         none   other                     2   \n",
       "\n",
       "         job  dependents phone default  \n",
       "0    skilled           1   yes      no  \n",
       "1    skilled           1    no     yes  \n",
       "2  unskilled           2    no      no  \n",
       "3    skilled           2    no      no  \n",
       "4    skilled           2    no     yes  "
      ]
     },
     "execution_count": 7,
     "metadata": {},
     "output_type": "execute_result"
    }
   ],
   "source": [
    "dataset.head()"
   ]
  },
  {
   "cell_type": "code",
   "execution_count": 8,
   "id": "a6cdc5a9-414d-4709-8563-25d03f74efcf",
   "metadata": {},
   "outputs": [
    {
     "name": "stdout",
     "output_type": "stream",
     "text": [
      "a coluna checking_balance tem os seguintes valores ['< 0 DM' '1 - 200 DM' 'unknown' '> 200 DM']\n",
      "a coluna months_loan_duration tem os seguintes valores [ 6 48 12 42 24 36 30 15  9 10  7 60 18 45 11 27  8 54 20 14 33 21 16  4\n",
      " 47 13 22 39 28  5 26 72 40]\n",
      "a coluna credit_history tem os seguintes valores ['critical' 'good' 'poor' 'perfect' 'very good']\n",
      "a coluna purpose tem os seguintes valores ['furniture/appliances' 'education' 'car' 'business' 'renovations' 'car0']\n",
      "a coluna amount tem os seguintes valores [ 1169  5951  2096  7882  4870  9055  2835  6948  3059  5234  1295  4308\n",
      "  1567  1199  1403  1282  2424  8072 12579  3430  2134  2647  2241  1804\n",
      "  2069  1374   426   409  2415  6836  1913  4020  5866  1264  1474  4746\n",
      "  6110  2100  1225   458  2333  1158  6204  6187  6143  1393  2299  1352\n",
      "  7228  2073  5965  1262  3378  2225   783  6468  9566  1961  6229  1391\n",
      "  1537  1953 14421  3181  5190  2171  1007  1819  2394  8133   730  1164\n",
      "  5954  1977  1526  3965  4771  9436  3832  5943  1213  1568  1755  2315\n",
      "  1412 12612  2249  1108   618  1409   797  3617  1318 15945  2012  2622\n",
      "  2337  7057  1469  2323   932  1919  2445 11938  6458  6078  7721  1410\n",
      "  1449   392  6260  7855  1680  3578  7174  2132  4281  2366  1835  3868\n",
      "  1768   781  1924  2121   701   639  1860  3499  8487  6887  2708  1984\n",
      " 10144  1240  8613   766  2728  1881   709  4795  3416  2462  2288  3566\n",
      "   860   682  5371  1582  1346  5848  7758  6967  1288   339  3512  1898\n",
      "  2872  1055  7308   909  2978  1131  1577  3972  1935   950   763  2064\n",
      "  1414  3414  7485  2577   338  1963   571  9572  4455  1647  3777   884\n",
      "  1360  5129  1175   674  3244  4591  3844  3915  2108  3031  1501  1382\n",
      "   951  2760  4297   936  1168  5117   902  1495 10623  1424  6568  1413\n",
      "  3074  3835  5293  1908  3342  3104  3913  3021  1364   625  1200   707\n",
      "  4657  2613 10961  7865  1478  3149  4210  2507  2141   866  1544  1823\n",
      " 14555  2767  1291  2522   915  1595  4605  1185  3447  1258   717  1204\n",
      "  1925   433   666  2251  2150  4151  2030  7418  2684  2149  3812  1154\n",
      "  1657  1603  5302  2748  1231   802  6304  1533  8978   999  2662  1402\n",
      " 12169  3060 11998  2697  2404  4611  1901  3368  1574  1445  1520  3878\n",
      " 10722  4788  7582  1092  1024  1076  9398  6419  4796  7629  9960  4675\n",
      "  1287  2515  2745   672  3804  1344  1038 10127  1543  4811   727  1237\n",
      "   276  5381  5511  3749   685  1494  2746   708  4351  3643  4249  1938\n",
      "  2910  2659  1028  3398  5801  1525  4473  1068  6615  1864  7408 11590\n",
      "  4110  3384  2101  1275  4169  1521  5743  3599  3213  4439  3949  1459\n",
      "   882  3758  1743  1136  1236   959  3229  6199  1246  2331  4463   776\n",
      "  2406  1239  3399  2247  1766  2473  1542  3850  3650  3446  3001  3079\n",
      "  6070  2146 13756 14782  7685  2320   846 14318   362  2212 12976  1283\n",
      "  1330  4272  2238  1126  7374  2326  1820   983  3249  1957 11760  2578\n",
      "  2348  1223  1516  1473  1887  8648  2899  2039  2197  1053  3235   939\n",
      "  1967  7253  2292  1597  1381  5842  2579  8471  2782  1042  3186  2028\n",
      "   958  1591  2762  2779  2743  1149  1313  1190  3448 11328  1872  2058\n",
      "  2136  1484   660  3394   609  1884  1620  2629   719  5096  1244  1842\n",
      "  2576  1512 11054   518  2759  2670  4817  2679  3905  3386   343  4594\n",
      "  3620  1721  3017   754  1950  2924  1659  7238  2764  4679  3092   448\n",
      "   654  1238  1245  3114  2569  5152  1037  3573  1201  3622   960  1163\n",
      "  1209  3077  3757  1418  3518  1934  8318   368  2122  2996  9034  1585\n",
      "  1301  1323  3123  5493  1216  1207  1309  2360  6850  8588   759  4686\n",
      "  2687   585  2255  1361  7127  1203   700  5507  3190  7119  3488  1113\n",
      "  7966  1532  1503  2302   662  2273  2631  1311  3105  2319  3612  7763\n",
      "  3049  1534  2032  6350  2864  1255  1333  2022  1552   626  8858   996\n",
      "  1750  6999  1995  1331  2278  5003  3552  1928  2964  1546   683 12389\n",
      "  4712  1553  1372  3979  6758  3234  5433   806  1082  2788  2930  1927\n",
      "  2820   937  1056  3124  1388  2384  2133  2799  1289  1217  2246   385\n",
      "  1965  1572  2718  1358   931  1442  4241  2775  3863  2329   918  1837\n",
      "  3349  2828  4526  2671  2051  1300   741  3357  3632  1808 12204  9157\n",
      "  3676  3441   640  3652  1530  3914  1858  2600  1979  2116  1437  4042\n",
      "  3660  1444  1980  1355  1376 15653  1493  4370   750  1308  4623  1851\n",
      "  1880  7980  4583  1386   947   684  7476  1922  2303  8086  2346  3973\n",
      "   888 10222  4221  6361  1297   900  1050  1047  6314  3496  3609  4843\n",
      "  4139  5742 10366  2080  2580  4530  5150  5595  1453  1538  2279  5103\n",
      "  9857  6527  1347  2862  2753  3651   975  2896  4716  2284  1103   926\n",
      "  1800  1905  1123  6331  1377  2503  2528  5324  6560  2969  1206  2118\n",
      "   629  1198  2476  1138 14027  7596  1505  3148  6148  1337  1228   790\n",
      "  2570   250  1316  1882  6416  6403  1987   760  2603  3380  3990 11560\n",
      "  4380  6761  4280  2325  1048  3160  2483 14179  1797  2511  1274  5248\n",
      "  3029   428   976   841  5771  1555  1285  1299  1271   691  5045  2124\n",
      "  2214 12680  2463  1155  3108  2901  1655  2812  8065  3275  2223  1480\n",
      "  1371  3535  3509  5711  3872  4933  1940   836  1941  2675  2751  6224\n",
      "  5998  1188  6313  1221  2892  3062  2301  7511  1549  1795  7472  9271\n",
      "   590   930  9283  1778   907   484  9629  3051  3931  7432  1338  1554\n",
      " 15857  1345  1101  3016  2712   731  3780  1602  3966  4165  8335  6681\n",
      "  2375 11816  5084  2327   886   601  2957  2611  5179  2993  1943  1559\n",
      "  3422  3976  1249  2235  1471 10875   894  3343  3959  3577  5804  2169\n",
      "  2439  2210  2221  2389  3331  7409   652  7678  1343   874  3590  1322\n",
      "  3595  1422  6742  7814  9277  2181  1098  4057   795  2825 15672  6614\n",
      "  7824  2442  1829  5800  8947  2606  1592  2186  4153  2625  3485 10477\n",
      "  1278  1107  3763  3711  3594  3195  4454  4736  2991  2142  3161 18424\n",
      "  2848 14896  2359  3345  1817 12749  1366  2002  6872   697  1049 10297\n",
      "  1867  1747  1670  1224   522  1498   745  2063  6288  6842  3527   929\n",
      "  1455  1845  8358  2859  3621  2145  4113 10974  1893  3656  4006  3069\n",
      "  1740  2353  3556  2397   454  1715  2520  3568  7166  3939  1514  7393\n",
      "  1193  7297  2831   753  2427  2538  8386  4844  2923  8229  1433  6289\n",
      "  6579  3565  1569  1936  2390  1736  3857   804  4576]\n",
      "a coluna savings_balance tem os seguintes valores ['unknown' '< 100 DM' '500 - 1000 DM' '> 1000 DM' '100 - 500 DM']\n",
      "a coluna employment_duration tem os seguintes valores ['> 7 years' '1 - 4 years' '4 - 7 years' 'unemployed' '< 1 year']\n",
      "a coluna percent_of_income tem os seguintes valores [4 2 3 1]\n",
      "a coluna years_at_residence tem os seguintes valores [4 2 3 1]\n",
      "a coluna age tem os seguintes valores [67 22 49 45 53 35 61 28 25 24 60 32 44 31 48 26 36 39 42 34 63 27 30 57\n",
      " 33 37 58 23 29 52 50 46 51 41 40 66 47 56 54 20 21 38 70 65 74 68 43 55\n",
      " 64 75 19 62 59]\n",
      "a coluna other_credit tem os seguintes valores ['none' 'bank' 'store']\n",
      "a coluna housing tem os seguintes valores ['own' 'other' 'rent']\n",
      "a coluna existing_loans_count tem os seguintes valores [2 1 3 4]\n",
      "a coluna job tem os seguintes valores ['skilled' 'unskilled' 'management' 'unemployed']\n",
      "a coluna dependents tem os seguintes valores [1 2]\n",
      "a coluna phone tem os seguintes valores ['yes' 'no']\n",
      "a coluna default tem os seguintes valores ['no' 'yes']\n"
     ]
    }
   ],
   "source": [
    "for col in dataset.columns:\n",
    "    print(f\"a coluna {col} tem os seguintes valores {dataset[col].unique()}\")"
   ]
  },
  {
   "cell_type": "markdown",
   "id": "96ccd2f1-bee6-4023-bbe3-d5e96bbaaa40",
   "metadata": {},
   "source": [
    "Após algumas análises prévias temos nesse dataset na maioria de suas colunas dados categoricos, como é o caso de:\n",
    "\n",
    "- \"job\"\n",
    "- \"housing\"\n",
    "- \"saving_balances\" \n",
    "\n",
    "Também nesse dataset temos algumas colunas onde os valores categoricos estão em faixas representado pelas variáveis, \"checking_balance\",\"saving_balances\" e \"employment_duration\"\n",
    "\n",
    "Neste primeiro momento, não vou transformar as váriaveis categoricas em inteiros, nem realizar um enconding para transformar algumas colunas, isso para eu saber como o modelo lida com os dados nessa forma."
   ]
  },
  {
   "cell_type": "markdown",
   "id": "4f8f7de0-4a02-467d-9093-3f23619823ee",
   "metadata": {
    "tags": []
   },
   "source": [
    "## ETL"
   ]
  },
  {
   "cell_type": "markdown",
   "id": "9621fdd9-612c-4568-be01-d2ffa881bfac",
   "metadata": {},
   "source": [
    "Este ETL foi realizado com o LabelEncoder() para transformar os dados categoricos em numericos"
   ]
  },
  {
   "cell_type": "code",
   "execution_count": 9,
   "id": "86a20f6f-965d-4638-a42d-1250790861d6",
   "metadata": {},
   "outputs": [],
   "source": [
    "categorical_columns = [\n",
    "    \"checking_balance\",\n",
    "    \"credit_history\",\n",
    "    \"purpose\",\n",
    "    \"savings_balance\",\n",
    "    \"employment_duration\",\n",
    "    \"other_credit\",\n",
    "    \"housing\",\n",
    "    \"job\",\n",
    "    \"phone\",\n",
    "    \"default\",\n",
    "]"
   ]
  },
  {
   "cell_type": "code",
   "execution_count": 10,
   "id": "b4a1b06e-29be-41a7-a06c-826c3faf05d2",
   "metadata": {},
   "outputs": [],
   "source": [
    "label_object = {}\n",
    "for col in categorical_columns:\n",
    "    labelencoder = preprocessing.LabelEncoder()\n",
    "    labelencoder.fit(dataset[col])\n",
    "    dataset[col] = labelencoder.fit_transform(dataset[col])\n",
    "    label_object[col] = labelencoder"
   ]
  },
  {
   "cell_type": "markdown",
   "id": "8f7f4d65-93a8-4ff9-ada2-cf4bfee6d001",
   "metadata": {
    "tags": []
   },
   "source": [
    "## Separação do Dataset em Treino e Teste"
   ]
  },
  {
   "cell_type": "code",
   "execution_count": 11,
   "id": "21d434c0-e652-40df-a45e-75b4b2a0af18",
   "metadata": {},
   "outputs": [],
   "source": [
    "features = [\n",
    "    \"checking_balance\",\n",
    "    \"months_loan_duration\",\n",
    "    \"credit_history\",\n",
    "    \"purpose\",\n",
    "    \"amount\",\n",
    "    \"savings_balance\",\n",
    "    \"employment_duration\",\n",
    "    \"percent_of_income\",\n",
    "    \"years_at_residence\",\n",
    "    \"age\",\n",
    "    \"other_credit\",\n",
    "    \"housing\",\n",
    "    \"existing_loans_count\",\n",
    "    \"job\",\n",
    "]"
   ]
  },
  {
   "cell_type": "code",
   "execution_count": 12,
   "id": "b9e4d6f7-ee65-4a42-902e-c8fca05a10ce",
   "metadata": {},
   "outputs": [],
   "source": [
    "target = \"default\""
   ]
  },
  {
   "cell_type": "code",
   "execution_count": 13,
   "id": "87cf8284-e2ec-44e8-b6c5-5edac029f2d9",
   "metadata": {},
   "outputs": [],
   "source": [
    "df_treino, df_teste = train_test_split(dataset, test_size=0.3, random_state=101)\n",
    "\n",
    "x_treino = df_treino[features].copy()\n",
    "y_treino = df_treino[target].copy()\n",
    "\n",
    "x_teste = df_teste[features].copy()\n",
    "y_teste = df_teste[target].copy()"
   ]
  },
  {
   "cell_type": "markdown",
   "id": "6441d531-aa56-4c65-afde-16445c2da303",
   "metadata": {
    "tags": []
   },
   "source": [
    "### Grafico para mostrar distribuição da váriavel target nos dataset's de treino e teste"
   ]
  },
  {
   "cell_type": "code",
   "execution_count": 14,
   "id": "f47ffb6a-73ce-44e7-b117-6ab0edb66cba",
   "metadata": {},
   "outputs": [
    {
     "data": {
      "image/png": "[encoded data removed]",
      "text/plain": [
       "<Figure size 432x288 with 1 Axes>"
      ]
     },
     "metadata": {
      "needs_background": "light"
     },
     "output_type": "display_data"
    }
   ],
   "source": [
    "sns.set_palette(\"flare\")\n",
    "ax = sns.countplot(x=\"default\", data=df_treino)\n",
    "ax = plt.subplot()\n",
    "for p in ax.patches:\n",
    "    ax.annotate(\n",
    "        f\"\\n{p.get_height()}\",\n",
    "        (p.get_x() + 0.2, p.get_height()),\n",
    "        ha=\"center\",\n",
    "        va=\"top\",\n",
    "        color=\"black\",\n",
    "        size=12,\n",
    "    )\n",
    "plt.show()"
   ]
  },
  {
   "cell_type": "code",
   "execution_count": 15,
   "id": "93a07ff2-03f2-40d1-ba08-7df7df80c4c9",
   "metadata": {},
   "outputs": [
    {
     "data": {
      "image/png": "[encoded data removed]",
      "text/plain": [
       "<Figure size 432x288 with 1 Axes>"
      ]
     },
     "metadata": {
      "needs_background": "light"
     },
     "output_type": "display_data"
    }
   ],
   "source": [
    "sns.set_palette(\"flare\")\n",
    "ax = sns.countplot(x=\"default\", data=df_teste)\n",
    "ax = plt.subplot()\n",
    "for p in ax.patches:\n",
    "    ax.annotate(\n",
    "        f\"\\n{p.get_height()}\",\n",
    "        (p.get_x() + 0.2, p.get_height()),\n",
    "        ha=\"center\",\n",
    "        va=\"top\",\n",
    "        color=\"black\",\n",
    "        size=12,\n",
    "    )\n",
    "plt.show()"
   ]
  },
  {
   "cell_type": "markdown",
   "id": "fcc0f550-272f-426e-9c74-903b54e97c91",
   "metadata": {
    "tags": []
   },
   "source": [
    "## Construindo o modelo de árvore de classificação"
   ]
  },
  {
   "cell_type": "code",
   "execution_count": 16,
   "id": "d47b96a1-f7bf-48a8-b9de-dfbeda2c45c1",
   "metadata": {},
   "outputs": [],
   "source": [
    "clf = DecisionTreeClassifier()"
   ]
  },
  {
   "cell_type": "code",
   "execution_count": 17,
   "id": "615e0858-8c6e-4938-bf9a-f66829c7d04b",
   "metadata": {},
   "outputs": [
    {
     "data": {
      "text/plain": [
       "DecisionTreeClassifier()"
      ]
     },
     "execution_count": 17,
     "metadata": {},
     "output_type": "execute_result"
    }
   ],
   "source": [
    "clf.fit(x_treino, y_treino)"
   ]
  },
  {
   "cell_type": "code",
   "execution_count": 18,
   "id": "233e00df-3569-4224-bc19-28bca7e4690a",
   "metadata": {},
   "outputs": [],
   "source": [
    "y_pred = clf.predict(x_teste)"
   ]
  },
  {
   "cell_type": "code",
   "execution_count": 19,
   "id": "4fd7d5f4-0d4a-4b87-b6b8-92f3a82d03b5",
   "metadata": {},
   "outputs": [
    {
     "data": {
      "text/plain": [
       "0.67"
      ]
     },
     "execution_count": 19,
     "metadata": {},
     "output_type": "execute_result"
    }
   ],
   "source": [
    "clf.score(x_teste, y_teste)"
   ]
  },
  {
   "cell_type": "code",
   "execution_count": 20,
   "id": "79695ea5-03b6-4c12-8fc5-946812fec0fe",
   "metadata": {},
   "outputs": [
    {
     "data": {
      "text/plain": [
       "{'ccp_alpha': 0.0,\n",
       " 'class_weight': None,\n",
       " 'criterion': 'gini',\n",
       " 'max_depth': None,\n",
       " 'max_features': None,\n",
       " 'max_leaf_nodes': None,\n",
       " 'min_impurity_decrease': 0.0,\n",
       " 'min_impurity_split': None,\n",
       " 'min_samples_leaf': 1,\n",
       " 'min_samples_split': 2,\n",
       " 'min_weight_fraction_leaf': 0.0,\n",
       " 'random_state': None,\n",
       " 'splitter': 'best'}"
      ]
     },
     "execution_count": 20,
     "metadata": {},
     "output_type": "execute_result"
    }
   ],
   "source": [
    "clf.get_params()"
   ]
  },
  {
   "cell_type": "markdown",
   "id": "82dbb2fa-e429-4d3b-baaa-3a09dbeca055",
   "metadata": {},
   "source": [
    "### Usando GridSearch para melhorar o desempenho do modelo"
   ]
  },
  {
   "cell_type": "code",
   "execution_count": 22,
   "id": "6dd3441b-84ed-4921-810b-18ac7fb51766",
   "metadata": {},
   "outputs": [
    {
     "name": "stdout",
     "output_type": "stream",
     "text": [
      "Melhores hyperparâmetros:  DecisionTreeClassifier(max_depth=14, max_features='auto', max_leaf_nodes=13,\n",
      "                       min_samples_leaf=13, min_samples_split=12)\n"
     ]
    }
   ],
   "source": [
    "from sklearn.model_selection import GridSearchCV, KFold\n",
    "\n",
    "# create a dictionary of all values we want to test\n",
    "param_grid = {\n",
    "    \"criterion\": [\"gini\", \"entropy\"],\n",
    "    \"max_depth\": np.arange(3, 15),\n",
    "    \"min_samples_leaf\": np.arange(3, 15),\n",
    "    \"min_samples_split\": np.arange(3, 15),\n",
    "    \"max_leaf_nodes\": np.arange(3, 15),\n",
    "    \"max_features\": [\"auto\", \"sqrt\", \"log2\"]\n",
    "}\n",
    "# decision tree model\n",
    "dtree_model = DecisionTreeClassifier()\n",
    "# use gridsearch to test all values\n",
    "dtree_gscv = GridSearchCV(dtree_model, param_grid, cv=5)\n",
    "# fit model to data\n",
    "dtree_gscv.fit(x_treino, y_treino)\n",
    "\n",
    "# Imprimir os melhores hyperparâmetros encontrados\n",
    "print(\"Melhores hyperparâmetros: \", dtree_gscv.best_estimator_)"
   ]
  },
  {
   "cell_type": "code",
   "execution_count": 23,
   "id": "5cb6e612-5a03-4465-96e9-62bedc06bb1e",
   "metadata": {},
   "outputs": [],
   "source": [
    "dtree_gscv = DecisionTreeClassifier(max_depth=14, max_features='auto', max_leaf_nodes=13,\n",
    "                       min_samples_leaf=13, min_samples_split=12)\n"
   ]
  },
  {
   "cell_type": "code",
   "execution_count": 24,
   "id": "ca3c413a-1672-4cf9-b7af-27b1f6a00804",
   "metadata": {},
   "outputs": [
    {
     "data": {
      "text/plain": [
       "DecisionTreeClassifier(max_depth=14, max_features='auto', max_leaf_nodes=13,\n",
       "                       min_samples_leaf=13, min_samples_split=12)"
      ]
     },
     "execution_count": 24,
     "metadata": {},
     "output_type": "execute_result"
    }
   ],
   "source": [
    "dtree_gscv.fit(x_treino, y_treino)"
   ]
  },
  {
   "cell_type": "code",
   "execution_count": 25,
   "id": "949dbdbc-3df3-47ef-b969-7b8ead08fb77",
   "metadata": {},
   "outputs": [],
   "source": [
    "y_pred = dtree_gscv.predict(x_teste)"
   ]
  },
  {
   "cell_type": "code",
   "execution_count": 26,
   "id": "decf9c32-ce44-49d8-bac1-5465c5df4fa9",
   "metadata": {},
   "outputs": [
    {
     "data": {
      "text/plain": [
       "0.7166666666666667"
      ]
     },
     "execution_count": 26,
     "metadata": {},
     "output_type": "execute_result"
    }
   ],
   "source": [
    "dtree_gscv.score(x_teste, y_teste)"
   ]
  },
  {
   "cell_type": "markdown",
   "id": "6a0d8b12-cc3a-4bd7-9f0b-7b3a409bb58d",
   "metadata": {
    "jp-MarkdownHeadingCollapsed": true,
    "tags": []
   },
   "source": [
    "## Árvore de Decisão"
   ]
  },
  {
   "cell_type": "code",
   "execution_count": 27,
   "id": "a871dcec-66f9-4f0f-acdc-018130ece895",
   "metadata": {},
   "outputs": [
    {
     "name": "stdout",
     "output_type": "stream",
     "text": [
      "|--- savings_balance <= 2.50\n",
      "|   |--- months_loan_duration <= 47.50\n",
      "|   |   |--- months_loan_duration <= 11.50\n",
      "|   |   |   |--- checking_balance <= 2.50\n",
      "|   |   |   |   |--- class: 0\n",
      "|   |   |   |--- checking_balance >  2.50\n",
      "|   |   |   |   |--- class: 0\n",
      "|   |   |--- months_loan_duration >  11.50\n",
      "|   |   |   |--- credit_history <= 1.50\n",
      "|   |   |   |   |--- purpose <= 0.50\n",
      "|   |   |   |   |   |--- class: 0\n",
      "|   |   |   |   |--- purpose >  0.50\n",
      "|   |   |   |   |   |--- age <= 25.50\n",
      "|   |   |   |   |   |   |--- class: 0\n",
      "|   |   |   |   |   |--- age >  25.50\n",
      "|   |   |   |   |   |   |--- amount <= 8181.00\n",
      "|   |   |   |   |   |   |   |--- amount <= 1286.50\n",
      "|   |   |   |   |   |   |   |   |--- checking_balance <= 2.50\n",
      "|   |   |   |   |   |   |   |   |   |--- class: 1\n",
      "|   |   |   |   |   |   |   |   |--- checking_balance >  2.50\n",
      "|   |   |   |   |   |   |   |   |   |--- class: 0\n",
      "|   |   |   |   |   |   |   |--- amount >  1286.50\n",
      "|   |   |   |   |   |   |   |   |--- class: 0\n",
      "|   |   |   |   |   |   |--- amount >  8181.00\n",
      "|   |   |   |   |   |   |   |--- class: 1\n",
      "|   |   |   |--- credit_history >  1.50\n",
      "|   |   |   |   |--- checking_balance <= 2.50\n",
      "|   |   |   |   |   |--- checking_balance <= 0.50\n",
      "|   |   |   |   |   |   |--- class: 1\n",
      "|   |   |   |   |   |--- checking_balance >  0.50\n",
      "|   |   |   |   |   |   |--- class: 1\n",
      "|   |   |   |   |--- checking_balance >  2.50\n",
      "|   |   |   |   |   |--- class: 0\n",
      "|   |--- months_loan_duration >  47.50\n",
      "|   |   |--- class: 1\n",
      "|--- savings_balance >  2.50\n",
      "|   |--- class: 0\n",
      "\n"
     ]
    }
   ],
   "source": [
    "tree_rules = export_text(dtree_gscv, feature_names=features)\n",
    "print(tree_rules)"
   ]
  },
  {
   "cell_type": "code",
   "execution_count": null,
   "id": "737d55e3-4080-428e-a4a7-17638c0208b0",
   "metadata": {},
   "outputs": [],
   "source": []
  },
  {
   "cell_type": "markdown",
   "id": "01c0a627-7fb1-442c-be43-6fb13b2c11cc",
   "metadata": {
    "jp-MarkdownHeadingCollapsed": true,
    "tags": []
   },
   "source": [
    "## Matriz de Confussão"
   ]
  },
  {
   "cell_type": "code",
   "execution_count": 28,
   "id": "cad53c28-ec85-4af7-8ed2-b60066601cda",
   "metadata": {},
   "outputs": [
    {
     "name": "stdout",
     "output_type": "stream",
     "text": [
      "[[180  24]\n",
      " [ 61  35]]\n"
     ]
    }
   ],
   "source": [
    "conf_matrix = confusion_matrix(y_teste, y_pred)\n",
    "print(conf_matrix)"
   ]
  },
  {
   "cell_type": "markdown",
   "id": "a04003ac-85f4-4aee-8ab0-9357a0f6fd97",
   "metadata": {
    "jp-MarkdownHeadingCollapsed": true,
    "tags": []
   },
   "source": [
    "## Curva ROC"
   ]
  },
  {
   "cell_type": "code",
   "execution_count": 29,
   "id": "56e85c31-b71e-4da6-87b5-a7949522240a",
   "metadata": {},
   "outputs": [],
   "source": [
    "def evaluate_model(df_train, df_test, target, model, train_features):\n",
    "\n",
    "    df_train[\"Probability\"] = model.predict_proba(df_train[train_features])[:, 1]\n",
    "    df_test[\"Probability\"] = model.predict_proba(df_test[train_features])[:, 1]\n",
    "\n",
    "    fig, axes = plt.subplots(nrows=1, ncols=2, figsize=(14, 6))\n",
    "    # Plot AUC Curve\n",
    "\n",
    "    fpr_train, tpr_train, threshold_train = roc_curve(\n",
    "        df_train[target], df_train[\"Probability\"]\n",
    "    )\n",
    "    roc_auc_train = auc(fpr_train, tpr_train)\n",
    "\n",
    "    fpr_test, tpr_test, threshold_test = roc_curve(\n",
    "        df_test[target], df_test[\"Probability\"]\n",
    "    )\n",
    "    roc_auc_test = auc(fpr_test, tpr_test)\n",
    "    sns.set(font_scale=1.5)\n",
    "    title = \"Receiver Operating Characteristic (ROC) Curve\"\n",
    "    ax = axes[0]\n",
    "    ax.plot(\n",
    "        fpr_train,\n",
    "        tpr_train,\n",
    "        color=\"darkorange\",\n",
    "        label=\"AUC = {}\".format(round(roc_auc_train, 3)),\n",
    "    )\n",
    "    ax.plot([0, 1], [0, 1], color=\"navy\", linestyle=\"--\")\n",
    "    ax.legend(loc=\"lower right\")\n",
    "    ax.set(xlabel=\"False Positive Rate\", ylabel=\"True Positive Rate\")\n",
    "    ax.set_title(\"Train\")\n",
    "\n",
    "    ax = axes[1]\n",
    "    ax.plot(\n",
    "        fpr_test,\n",
    "        tpr_test,\n",
    "        color=\"darkorange\",\n",
    "        label=\"AUC = {}\".format(round(roc_auc_test, 3)),\n",
    "    )\n",
    "    ax.plot([0, 1], [0, 1], color=\"navy\", linestyle=\"--\")\n",
    "    ax.legend(loc=\"lower right\")\n",
    "    ax.set(xlabel=\"False Positive Rate\", ylabel=\"True Positive Rate\")\n",
    "    ax.set_title(\"Validation\")\n",
    "\n",
    "    fig.suptitle(title)"
   ]
  },
  {
   "cell_type": "code",
   "execution_count": 30,
   "id": "8d39ef93-ede8-424b-bf5e-6230303b013f",
   "metadata": {},
   "outputs": [
    {
     "name": "stderr",
     "output_type": "stream",
     "text": [
      "\n",
      "A value is trying to be set on a copy of a slice from a DataFrame.\n",
      "Try using .loc[row_indexer,col_indexer] = value instead\n",
      "\n",
      "See the caveats in the documentation: https://pandas.pydata.org/pandas-docs/stable/user_guide/indexing.html#returning-a-view-versus-a-copy\n",
      "\n",
      "A value is trying to be set on a copy of a slice from a DataFrame.\n",
      "Try using .loc[row_indexer,col_indexer] = value instead\n",
      "\n",
      "See the caveats in the documentation: https://pandas.pydata.org/pandas-docs/stable/user_guide/indexing.html#returning-a-view-versus-a-copy\n"
     ]
    },
    {
     "data": {
      "image/png": "[encoded data removed]",
      "text/plain": [
       "<Figure size 1008x432 with 2 Axes>"
      ]
     },
     "metadata": {
      "needs_background": "light"
     },
     "output_type": "display_data"
    }
   ],
   "source": [
    "evaluate_model(\n",
    "    df_train=df_treino,\n",
    "    df_test=df_teste,\n",
    "    target=target,\n",
    "    model=dtree_gscv,\n",
    "    train_features=features,\n",
    ")"
   ]
  },
  {
   "cell_type": "code",
   "execution_count": 31,
   "id": "6fc22200-dc78-4324-b7af-67e6e1af531d",
   "metadata": {},
   "outputs": [
    {
     "data": {
      "image/png": "[encoded data removed]",
      "text/plain": [
       "<Figure size 576x511.2 with 1 Axes>"
      ]
     },
     "metadata": {},
     "output_type": "display_data"
    }
   ],
   "source": [
    "shap_valores = shap.Explainer(clf, x_teste).shap_values(x_teste)\n",
    "shap.summary_plot(shap_valores, x_teste, plot_type=\"bar\", show=False)"
   ]
  },
  {
   "cell_type": "code",
   "execution_count": null,
   "id": "d67462df-d949-43ae-bcf9-321d74bc3632",
   "metadata": {},
   "outputs": [],
   "source": []
  }
 ],
 "metadata": {
  "kernelspec": {
   "display_name": "Python 3 (ipykernel)",
   "language": "python",
   "name": "python3"
  },
  "language_info": {
   "codemirror_mode": {
    "name": "ipython",
    "version": 3
   },
   "file_extension": ".py",
   "mimetype": "text/x-python",
   "name": "python",
   "nbconvert_exporter": "python",
   "pygments_lexer": "ipython3",
   "version": "3.9.12"
  }
 },
 "nbformat": 4,
 "nbformat_minor": 5
}
